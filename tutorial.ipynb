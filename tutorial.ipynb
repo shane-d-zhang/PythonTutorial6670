{
 "cells": [
  {
   "cell_type": "markdown",
   "id": "4b20c3d9",
   "metadata": {
    "toc": true
   },
   "source": [
    "<h1>Table of Contents<span class=\"tocSkip\"></span></h1>\n",
    "<div class=\"toc\"><ul class=\"toc-item\"><li><span><a href=\"#Why-Python?\" data-toc-modified-id=\"Why-Python?-1\">Why Python?</a></span></li><li><span><a href=\"#Python-syntax\" data-toc-modified-id=\"Python-syntax-2\">Python syntax</a></span><ul class=\"toc-item\"><li><span><a href=\"#Variables-and-formats\" data-toc-modified-id=\"Variables-and-formats-2.1\">Variables and formats</a></span></li><li><span><a href=\"#Data-structures\" data-toc-modified-id=\"Data-structures-2.2\">Data structures</a></span></li><li><span><a href=\"#Control-flows\" data-toc-modified-id=\"Control-flows-2.3\">Control flows</a></span></li><li><span><a href=\"#I/O-(cf.-using-numpy,-pandas)\" data-toc-modified-id=\"I/O-(cf.-using-numpy,-pandas)-2.4\">I/O (cf. using <a href=\"#numpy_load\">numpy</a>, <a href=\"#pandas_load\">pandas</a>)</a></span></li><li><span><a href=\"#Functions\" data-toc-modified-id=\"Functions-2.5\">Functions</a></span></li><li><span><a href=\"#Modules\" data-toc-modified-id=\"Modules-2.6\">Modules</a></span></li><li><span><a href=\"#Classes\" data-toc-modified-id=\"Classes-2.7\">Classes</a></span></li><li><span><a href=\"#Command-line\" data-toc-modified-id=\"Command-line-2.8\">Command line</a></span></li></ul></li><li><span><a href=\"#Essential-packages\" data-toc-modified-id=\"Essential-packages-3\">Essential packages</a></span><ul class=\"toc-item\"><li><span><a href=\"#Array-programming-with-NumPy\" data-toc-modified-id=\"Array-programming-with-NumPy-3.1\">Array programming with <code>NumPy</code></a></span></li><li><span><a href=\"#Scientific-computing-with-SciPy\" data-toc-modified-id=\"Scientific-computing-with-SciPy-3.2\">Scientific computing with <code>SciPy</code></a></span></li><li><span><a href=\"#Visualization-with-Matplotlib\" data-toc-modified-id=\"Visualization-with-Matplotlib-3.3\">Visualization with <code>Matplotlib</code></a></span></li></ul></li><li><span><a href=\"#Specific-packages\" data-toc-modified-id=\"Specific-packages-4\">Specific packages</a></span><ul class=\"toc-item\"><li><span><a href=\"#Analysis-of-tabular-data-with-Pandas\" data-toc-modified-id=\"Analysis-of-tabular-data-with-Pandas-4.1\">Analysis of tabular data with <code>Pandas</code></a></span></li><li><span><a href=\"#Machine-learning-with-scikit-learn\" data-toc-modified-id=\"Machine-learning-with-scikit-learn-4.2\">Machine learning with <code>scikit-learn</code></a></span><ul class=\"toc-item\"><li><span><a href=\"#Lasso-($l_1$)-regression\" data-toc-modified-id=\"Lasso-($l_1$)-regression-4.2.1\">Lasso ($l_1$) regression</a></span></li></ul></li><li><span><a href=\"#Cartography-with-cartopy\" data-toc-modified-id=\"Cartography-with-cartopy-4.3\"><del>Cartography with <code>cartopy</code></del></a></span></li></ul></li></ul></div>"
   ]
  },
  {
   "cell_type": "markdown",
   "id": "7307a856",
   "metadata": {},
   "source": [
    "<h2 style=\"text-align: center\"><span class=\"tocSkip\"></span>GEOL 6670 Geophysical Inverse Theory</h2>\n",
    "<h1 style=\"text-align: center\"><span class=\"tocSkip\"></span>Tutorial on Python</h1>\n",
    "<h2 style=\"text-align: center\"><span class=\"tocSkip\"></span>Shane Zhang*</h2>\n",
    "<h3 style=\"text-align: center\"><span class=\"tocSkip\"></span>University of Colorado Boulder</h3>\n",
    "<h3 style=\"text-align: center\"><span class=\"tocSkip\"></span>Aug 31st, 2021</h3>\n",
    "<h4 style=\"text-align: center\"><span class=\"tocSkip\"></span><a href=\"mailto:shane.zhang@colorado.edu\">*shane.zhang@colorado.edu</a></h4>"
   ]
  },
  {
   "cell_type": "markdown",
   "id": "12c44f99",
   "metadata": {},
   "source": [
    "# Why Python?\n"
   ]
  },
  {
   "cell_type": "markdown",
   "id": "0a05f939",
   "metadata": {},
   "source": [
    "- Versatile\n",
    "    - A personal story: My old workflow is to use `C/Fortran` for computing, then use `Shell/Perl` for I/O, and `Matlab/GMT` for plotting.\n",
    "- Easy to read\n",
    "```Python\n",
    "def add(a, b):\n",
    "    # Return the sum of two numbers.\n",
    "    return a + b\n",
    "```\n",
    "- \"Efficient\"\n",
    "    - I believe human time is more precious than machine time, and thus appreciate the fast feedback from Python in the development stage.\n",
    "- Open-source\n",
    "- Popular\n",
    "\n",
    "<figure>\n",
    "    <img src=\"fig/SO.png\" class=\"center\" style=\"width:80%\">\n",
    "    <figcaption><b>Fig: Trends of programming languages in [StackOverflow](https://insights.stackoverflow.com/trends?tags=java%2Cc%2Cc%2B%2B%2Cpython%2Cc%23%2Cvb.net%2Cjavascript%2Cassembly%2Cphp%2Cperl%2Cruby%2Cswift%2Cr%2Cobjective-c).</b></figcaption>\n",
    "</figure>\n",
    "\n",
    "A google search of `python tutorial` yields ~1 billion results, thus I would not try to provide a list of useful resources. In addition, the tutorial aims to be useful for a diverse audience but will become more biased in the later part.\n",
    "\n",
    "Some examples are provided only as counterparts to Menke's introdution to Matlab."
   ]
  },
  {
   "cell_type": "markdown",
   "id": "2426bd5b",
   "metadata": {},
   "source": [
    "# Python syntax"
   ]
  },
  {
   "cell_type": "markdown",
   "id": "aca1c28f",
   "metadata": {},
   "source": [
    "## Variables and formats"
   ]
  },
  {
   "cell_type": "code",
   "execution_count": null,
   "id": "13aa6cac",
   "metadata": {},
   "outputs": [],
   "source": [
    "# Single line comment\n",
    "\"\"\"\n",
    "Multiple\n",
    "line\n",
    "comments.\n",
    "\"\"\"\n",
    "\n",
    "# Integer division\n",
    "5 // 3\n",
    "-5 // 3\n",
    "\n",
    "# Exponentiation\n",
    "2**3\n",
    "\n",
    "# Boolean\n",
    "True\n",
    "not True\n",
    "True or False\n",
    "True and False\n",
    "\n",
    "# Comparison\n",
    "1 == 1\n",
    "1 != 2\n",
    "1 < 2\n",
    "2 <= 2\n",
    "1 < 2 < 3\n",
    "\n",
    "\n",
    "\n",
    "x = 0\n",
    "\n",
    "print('temperature data from {} to {}'.format(1.1, 2))\n",
    "\n",
    "print('{0} and {1}'.format('spam', 'eggs'))\n",
    "print('{1} and {0}'.format('spam', 'eggs'))\n",
    "\n",
    "print('x = ' + str(x))\n",
    "print(f'x = {x}')\n",
    "print(f'x = {x:.3f}')"
   ]
  },
  {
   "cell_type": "markdown",
   "id": "29c4a1ce",
   "metadata": {},
   "source": [
    "## Data structures"
   ]
  },
  {
   "cell_type": "code",
   "execution_count": null,
   "id": "cf88b268",
   "metadata": {},
   "outputs": [],
   "source": [
    "# List\n",
    "li = []\n",
    "li.append(1)\n",
    "li.append(2)\n",
    "li.append(3)\n",
    "li[1]\n",
    "li[1:2]\n",
    "len(li)\n",
    "a, b, c = li\n",
    "2 in li\n",
    "\n",
    "# Tuple\n",
    "tup = (1, 2, 3)\n",
    "# tup[0] = 2    # Tuples are immutable!\n",
    "\n",
    "# Dictionary\n",
    "di = {'one': 1, 'two': 2, 'three': 3}\n",
    "di['one']\n",
    "list(di.keys())\n",
    "list(di.values())\n",
    "'one' in di\n",
    "di.get('one')\n",
    "di.update({'four': 4})\n",
    "\n",
    "# Set\n",
    "se = set({1, 1, 2, 2, 3})\n",
    "se.add(4)\n",
    "other_set = {3, 4}\n",
    "se & other_set    # intersection\n",
    "se | other_set    # union\n",
    "se - other_set    # difference\n"
   ]
  },
  {
   "cell_type": "markdown",
   "id": "f6fdcdee",
   "metadata": {},
   "source": [
    "## Control flows"
   ]
  },
  {
   "cell_type": "code",
   "execution_count": null,
   "id": "a7887b2f",
   "metadata": {},
   "outputs": [],
   "source": [
    "x = 5\n",
    "if x > 1:\n",
    "    print('x > 1')\n",
    "elif x < 1:\n",
    "    print('x < 1')\n",
    "else:\n",
    "    print('x == 1')\n",
    "    \n",
    "\n",
    "s = 0\n",
    "for i in range(1, 10, 1):\n",
    "    s += i\n",
    "s\n",
    "\n",
    "\n",
    "x = 0\n",
    "while x < 2:\n",
    "    print(x)\n",
    "    x += 1\n",
    "\n",
    "\n",
    "# try:\n",
    "#     open('a/b')\n",
    "# except FileNotFoundError as e:\n",
    "#     raise e\n",
    "# else:\n",
    "#     pass\n",
    "# finally:\n",
    "#     pass"
   ]
  },
  {
   "cell_type": "markdown",
   "id": "1ee34eda",
   "metadata": {},
   "source": [
    "## I/O (cf. using [numpy](#numpy_load), [pandas](#pandas_load))"
   ]
  },
  {
   "cell_type": "code",
   "execution_count": null,
   "id": "b0f69a1b",
   "metadata": {},
   "outputs": [],
   "source": [
    "fpath = '/Volumes/GoogleDrive/My Drive/6670/gda/data/global_temp.txt'\n",
    "with open(fpath, 'r') as f:\n",
    "#     d = f.read()\n",
    "#     d = f.readline()\n",
    "\n",
    "#     d = f.readlines()\n",
    "    d = list(f)\n",
    "\n",
    "#     for i, line in enumerate(f):\n",
    "#         print(i, line)\n",
    "\n",
    "d\n",
    "\n",
    "\n",
    "year, temperature = [], []\n",
    "with open(fpath, 'r') as f:\n",
    "    for line in f:\n",
    "        y, t = line.split()\n",
    "        year.append(int(y))\n",
    "        temperature.append(float(t))\n",
    "\n",
    "# year, temperature"
   ]
  },
  {
   "cell_type": "markdown",
   "id": "39a4257a",
   "metadata": {},
   "source": [
    "## Functions"
   ]
  },
  {
   "cell_type": "code",
   "execution_count": null,
   "id": "2d59d0f4",
   "metadata": {},
   "outputs": [],
   "source": [
    "def function_name(arg1, *args, **kwargs):\n",
    "    print(arg1)\n",
    "    print(args)\n",
    "    print(kwargs)\n",
    "\n",
    "    return\n",
    "\n",
    "arg1 = 1\n",
    "args = (1, 2)\n",
    "kwargs = {'a': 1}\n",
    "# function_name(arg1)\n",
    "function_name(arg1, *args, **kwargs)"
   ]
  },
  {
   "cell_type": "markdown",
   "id": "6cd231c9",
   "metadata": {},
   "source": [
    "## Modules"
   ]
  },
  {
   "cell_type": "code",
   "execution_count": null,
   "id": "c9d2c79b",
   "metadata": {},
   "outputs": [],
   "source": [
    "import math"
   ]
  },
  {
   "cell_type": "code",
   "execution_count": null,
   "id": "df70fd3a",
   "metadata": {},
   "outputs": [],
   "source": [
    "a = 6\n",
    "b = 8\n",
    "c = math.sqrt(a**2 + b**2)\n",
    "c"
   ]
  },
  {
   "cell_type": "code",
   "execution_count": null,
   "id": "2157745c",
   "metadata": {},
   "outputs": [],
   "source": [
    "n = 3\n",
    "x = 4\n",
    "x0 = 1\n",
    "L = 6\n",
    "c = math.sin(n * math.pi * (x-x0) / L)\n",
    "c"
   ]
  },
  {
   "cell_type": "code",
   "execution_count": null,
   "id": "16b30b17",
   "metadata": {},
   "outputs": [],
   "source": [
    "from math import ceil\n",
    "\n",
    "ceil(3.2)"
   ]
  },
  {
   "cell_type": "markdown",
   "id": "4b58a072",
   "metadata": {},
   "source": [
    "## Classes"
   ]
  },
  {
   "cell_type": "code",
   "execution_count": null,
   "id": "60ab5478",
   "metadata": {},
   "outputs": [],
   "source": [
    "class Human(object):\n",
    "    def __init__(self, name, skills=[]):\n",
    "        self.name = name\n",
    "        self.skills = skills\n",
    "        \n",
    "    def solve_problems(self):\n",
    "        return True\n",
    "     \n",
    "    \n",
    "class Geologist(Human):\n",
    "    def __init__(self, name, skills=['geology']):\n",
    "        super().__init__(name=name, skills=skills)\n",
    "#         super(Human, self).__init__(name=name, skills=skills)\n",
    "\n",
    "    def solve_geological_problems(self):\n",
    "        return True\n",
    "        \n",
    "\n",
    "class Physicist(Human):\n",
    "    def __init__(self, name, skills=['physics']):\n",
    "        super().__init__(name=name, skills=skills)\n",
    "    \n",
    "    def solve_physcis_problems(self):\n",
    "        return True\n",
    "    \n",
    "    \n",
    "class Geophysicist(Human):\n",
    "    def __init__(self, name, skills=['geophysics']):\n",
    "        super().__init__(name=name, skills=skills)\n",
    "\n",
    "    def solve_geophysical_problems(self):\n",
    "        return True\n",
    "    \n",
    "    \n",
    "class GeoPhysicist(Geologist, Physicist):\n",
    "    def __init__(self, name, skills=['geology, physics']):\n",
    "        Geologist.__init__(self, name=name, skills=skills)\n",
    "        Physicist.__init__(self, name=name, skills=skills)\n",
    "\n",
    "        \n",
    "p1 = GeoPhysicist(name='anonymous')\n",
    "p1.name\n",
    "p1.skills\n",
    "p1.solve_problems()\n",
    "# p1.solve_geological_problems()\n",
    "# p1.solve_geophysical_problems()"
   ]
  },
  {
   "cell_type": "markdown",
   "id": "50cea249",
   "metadata": {},
   "source": [
    "## Command line"
   ]
  },
  {
   "cell_type": "code",
   "execution_count": null,
   "id": "3b44b207",
   "metadata": {},
   "outputs": [],
   "source": [
    "pwd"
   ]
  },
  {
   "cell_type": "code",
   "execution_count": null,
   "id": "5e09a99c",
   "metadata": {},
   "outputs": [],
   "source": [
    "cd /Volumes/GoogleDrive/My\\ Drive/6670"
   ]
  },
  {
   "cell_type": "code",
   "execution_count": null,
   "id": "a73338ba",
   "metadata": {},
   "outputs": [],
   "source": [
    "# dir()"
   ]
  },
  {
   "cell_type": "code",
   "execution_count": null,
   "id": "7c26485c",
   "metadata": {},
   "outputs": [],
   "source": [
    "ls -lh"
   ]
  },
  {
   "cell_type": "markdown",
   "id": "b584f19d",
   "metadata": {},
   "source": [
    "# Essential packages"
   ]
  },
  {
   "cell_type": "markdown",
   "id": "3498254d",
   "metadata": {},
   "source": [
    "<figure>\n",
    "    <img src=\"fig/Harris20_2.png\" class=\"center\" style=\"width:80%\">\n",
    "    <figcaption><b>Fig: [Harris et al., 2020](https://doi.org/10.1038/s41586-020-2649-2).</b></figcaption>\n",
    "</figure>"
   ]
  },
  {
   "cell_type": "markdown",
   "id": "54d07ab1",
   "metadata": {},
   "source": [
    "## Array programming with `NumPy`"
   ]
  },
  {
   "cell_type": "markdown",
   "id": "32002800",
   "metadata": {},
   "source": [
    "<figure>\n",
    "    <img src=\"fig/Harris20_1.png\" class=\"center\" style=\"width:100%\">\n",
    "    <figcaption><b>Fig: [Harris et al., 2020](https://doi.org/10.1038/s41586-020-2649-2).</b></figcaption>\n",
    "</figure>"
   ]
  },
  {
   "cell_type": "code",
   "execution_count": null,
   "id": "8fd87b28",
   "metadata": {},
   "outputs": [],
   "source": [
    "import numpy as np"
   ]
  },
  {
   "cell_type": "code",
   "execution_count": null,
   "id": "16605be1",
   "metadata": {},
   "outputs": [],
   "source": [
    "# Data structure\n",
    "x = np.arange(12).reshape(4, 3)\n",
    "x.dtype\n",
    "x.shape\n",
    "x.strides\n",
    "\n",
    "# Indexing (view)\n",
    "x[:, 1:]\n",
    "x[:, ::2]\n",
    "\n",
    "# Indexing (copy)\n",
    "x[1, 2]\n",
    "x[x > 9]\n",
    "x[[0, 1], [1, 2]]\n",
    "x[[[1], [2]], [1, 0]]\n",
    "\n",
    "# Vectorization\n",
    "a = np.column_stack([np.linspace(0, 9, 4), np.linspace(1, 10, 4)])\n",
    "b = np.ones((4, 2))\n",
    "a + b\n",
    "\n",
    "# Broadcasting\n",
    "a[:, 0].reshape(4, 1) * np.array([1, 2]).reshape(1, 2)\n",
    "\n",
    "# Reduction\n",
    "x.sum(axis=0)\n",
    "x.sum(axis=1)\n",
    "x.sum()"
   ]
  },
  {
   "cell_type": "code",
   "execution_count": null,
   "id": "ea47db3b",
   "metadata": {},
   "outputs": [],
   "source": [
    "r = np.array([2, 4, 6]).reshape(1, 3)\n",
    "c = np.array([1, 3, 5]).reshape(3, 1)\n",
    "\n",
    "r, c"
   ]
  },
  {
   "cell_type": "code",
   "execution_count": null,
   "id": "897dbc08",
   "metadata": {},
   "outputs": [],
   "source": [
    "a = r[0, 1]\n",
    "b = c[2, 0]\n",
    "a, b"
   ]
  },
  {
   "cell_type": "code",
   "execution_count": null,
   "id": "c13fa89e",
   "metadata": {},
   "outputs": [],
   "source": [
    "M = np.arange(1, 10, 1).reshape(3, 3)\n",
    "M"
   ]
  },
  {
   "cell_type": "code",
   "execution_count": null,
   "id": "01ed4374",
   "metadata": {},
   "outputs": [],
   "source": [
    "c = M[0, 2]\n",
    "c"
   ]
  },
  {
   "cell_type": "code",
   "execution_count": null,
   "id": "76b050b8",
   "metadata": {},
   "outputs": [],
   "source": [
    "M = np.array([\n",
    "    1, 0, 2,\n",
    "    0, 1, 0,\n",
    "    2, 0, 1,\n",
    "]).reshape(3, 3)\n",
    "N = np.array([\n",
    "    1, 0, -1,\n",
    "    0, 2, 0,\n",
    "    -1, 0, 3,\n",
    "]).reshape(3, 3)\n",
    "S = M + N\n",
    "S"
   ]
  },
  {
   "cell_type": "code",
   "execution_count": null,
   "id": "4a06a661",
   "metadata": {},
   "outputs": [],
   "source": [
    "D = M - N\n",
    "D"
   ]
  },
  {
   "cell_type": "code",
   "execution_count": null,
   "id": "becf28f3",
   "metadata": {},
   "outputs": [],
   "source": [
    "a = np.array([1, 3, 5]).reshape(3, 1)\n",
    "b = np.array([2, 4, 6]).reshape(3, 1)\n",
    "print(a.T @ b)\n",
    "print(np.dot(a.T, b))\n",
    "print(a.T.dot(b))\n",
    "print(a @ b.T)\n",
    "print(M @ a)\n",
    "print(M @ N)\n",
    "print(a * b)"
   ]
  },
  {
   "cell_type": "markdown",
   "id": "7d0d2cea",
   "metadata": {},
   "source": [
    "- Loading data from a file <a id='numpy_load'></a>"
   ]
  },
  {
   "cell_type": "code",
   "execution_count": null,
   "id": "a52d849e",
   "metadata": {},
   "outputs": [],
   "source": [
    "d = np.loadtxt(\n",
    "    fpath,\n",
    "    dtype={\n",
    "        'names': ('year', 'temperature'),\n",
    "        'formats': ('i4', 'f4')\n",
    "    },\n",
    ")\n",
    "d\n",
    "d['year']"
   ]
  },
  {
   "cell_type": "markdown",
   "id": "a4c36396",
   "metadata": {},
   "source": [
    "## Scientific computing with `SciPy`"
   ]
  },
  {
   "cell_type": "code",
   "execution_count": null,
   "id": "d9948881",
   "metadata": {},
   "outputs": [],
   "source": [
    "import scipy as sp\n",
    "from scipy import linalg        # Linear algebra"
   ]
  },
  {
   "cell_type": "code",
   "execution_count": null,
   "id": "7e036fb8",
   "metadata": {},
   "outputs": [],
   "source": [
    "# Matrix inverse\n",
    "# A = np.array([\n",
    "#     [1, 5, 13],\n",
    "#     [2, 7, 17],\n",
    "#     [3, 11, 19],\n",
    "# ])\n",
    "# b = np.array([1, 2, 3]).reshape(3, 1)\n",
    "# print(A)\n",
    "\n",
    "# B = linalg.inv(A)\n",
    "# print(B)\n",
    "# print(A @ B)\n",
    "# print(B @ A)\n",
    "\n",
    "# c, error, rank, s = linalg.lstsq(A, b)\n",
    "# print(c, error)\n",
    "\n",
    "\n",
    "# B = np.array([\n",
    "#     [1, 3, 4],\n",
    "#     [2, 3, 2],\n",
    "#     [0, 0, 4],\n",
    "# ])\n",
    "# D = B @ linalg.inv(A)\n",
    "# print(D)\n",
    "\n",
    "# Eigenvalues and eigenvectors\n",
    "M = np.array([\n",
    "    [1, 2, 0],\n",
    "    [2, 2, 0],\n",
    "    [0, 0, 4],\n",
    "])\n",
    "print(M)\n",
    "LAMBDA, V = linalg.eig(M)\n",
    "print(LAMBDA, '\\n', V)\n",
    "print(V.T @ V)"
   ]
  },
  {
   "cell_type": "markdown",
   "id": "1c643296",
   "metadata": {},
   "source": [
    "- SVD (Singular Value Decomposition)\n",
    "\n",
    "$$\n",
    "M = U S V^H\n",
    "$$\n",
    "where $UU^H = U^H U = I, VV^H = V^H V = I$, and $S$ is rectangular diagonal."
   ]
  },
  {
   "cell_type": "code",
   "execution_count": null,
   "id": "7434b92b",
   "metadata": {},
   "outputs": [],
   "source": [
    "M = np.array([\n",
    "    [1, 0, 0, 0, 2],\n",
    "    [0, 0, 3, 0, 0],\n",
    "    [0, 0, 0, 0, 0],\n",
    "    [0, 2, 0, 0, 0],\n",
    "])\n",
    "U, s, Vh = linalg.svd(M)\n",
    "print(U)\n",
    "print(s)\n",
    "print(Vh)"
   ]
  },
  {
   "cell_type": "markdown",
   "id": "2b017c7e",
   "metadata": {},
   "source": [
    "## Visualization with `Matplotlib`"
   ]
  },
  {
   "cell_type": "code",
   "execution_count": null,
   "id": "c9802c2f",
   "metadata": {},
   "outputs": [],
   "source": [
    "import matplotlib.pyplot as plt\n",
    "\n",
    "plt.rcParams.update({\n",
    "    'figure.dpi': 300,\n",
    "})"
   ]
  },
  {
   "cell_type": "code",
   "execution_count": null,
   "id": "58472c86",
   "metadata": {},
   "outputs": [],
   "source": [
    "fig, ax = plt.subplots()\n",
    "ax.plot(\n",
    "    d['year'], d['temperature'], 'r-', linewidth=2,\n",
    "    marker='o', markerfacecolor='none', markeredgecolor='k',\n",
    ")\n",
    "ax.set_xlim(1965, 2020)\n",
    "ax.set_ylim(-0.5, 1)\n",
    "ax.set_xlabel(r'Calendar year, $t_i$ (years)')\n",
    "ax.set_ylabel(r'Temperature anomaly, $T_i$ ($^\\circ$C)')\n",
    "ax.set_title('Global temperature data', fontsize=14)\n",
    "# fig.savefig('test.pdf')"
   ]
  },
  {
   "cell_type": "markdown",
   "id": "3943bec9",
   "metadata": {},
   "source": [
    "# Specific packages"
   ]
  },
  {
   "cell_type": "markdown",
   "id": "83d56946",
   "metadata": {},
   "source": [
    "## Analysis of tabular data with `Pandas`"
   ]
  },
  {
   "cell_type": "code",
   "execution_count": null,
   "id": "60dc6840",
   "metadata": {},
   "outputs": [],
   "source": [
    "import pandas as pd"
   ]
  },
  {
   "cell_type": "markdown",
   "id": "6c249697",
   "metadata": {},
   "source": [
    "- Load data<a id='pandas_load'></a>"
   ]
  },
  {
   "cell_type": "code",
   "execution_count": null,
   "id": "e31d267c",
   "metadata": {},
   "outputs": [],
   "source": [
    "df = pd.read_csv(\n",
    "    fpath,\n",
    "    sep='\\s+',\n",
    "    header=None,\n",
    "    names=['year', 'temperature'],\n",
    "#     parse_dates=['year'],\n",
    ")\n",
    "# df"
   ]
  },
  {
   "cell_type": "markdown",
   "id": "f0e58c2e",
   "metadata": {},
   "source": [
    "- Plot data"
   ]
  },
  {
   "cell_type": "code",
   "execution_count": null,
   "id": "e68b43e6",
   "metadata": {},
   "outputs": [],
   "source": [
    "ax = df.plot('year', 'temperature', kind='line', c='r')\n",
    "df.plot.scatter('year', 'temperature', ax=ax, c='k')\n",
    "ax.set_ylim(-.5, 1)"
   ]
  },
  {
   "cell_type": "markdown",
   "id": "04c1f995",
   "metadata": {},
   "source": [
    "- Data analysis"
   ]
  },
  {
   "cell_type": "code",
   "execution_count": null,
   "id": "fd2f00da",
   "metadata": {},
   "outputs": [],
   "source": [
    "df = pd.DataFrame(\n",
    "    {\n",
    "        \"A\": [\"foo\", \"bar\", \"foo\", \"bar\", \"foo\", \"bar\", \"foo\", \"foo\"],\n",
    "        \"B\": [\"one\", \"one\", \"two\", \"three\", \"two\", \"two\", \"one\", \"three\"],\n",
    "        \"C\": np.random.randn(8),\n",
    "        \"D\": np.random.randn(8),\n",
    "    }\n",
    ")\n",
    "df\n",
    "df.groupby('A').sum()"
   ]
  },
  {
   "cell_type": "markdown",
   "id": "b41d3472",
   "metadata": {},
   "source": [
    "## Machine learning with `scikit-learn`"
   ]
  },
  {
   "cell_type": "markdown",
   "id": "beab3ada",
   "metadata": {},
   "source": [
    "### Lasso ($l_1$) regression"
   ]
  },
  {
   "cell_type": "markdown",
   "id": "fcfb9f90",
   "metadata": {},
   "source": [
    "$$\n",
    "\\arg \\min_m || d - Gm ||^2_2 + \\alpha || m ||_1\n",
    "$$"
   ]
  },
  {
   "cell_type": "code",
   "execution_count": null,
   "id": "5921249b",
   "metadata": {},
   "outputs": [],
   "source": [
    "from sklearn.linear_model import Lasso"
   ]
  },
  {
   "cell_type": "code",
   "execution_count": null,
   "id": "4cef1dfa",
   "metadata": {},
   "outputs": [],
   "source": [
    "np.random.seed(42)\n",
    "n_samples, n_features = 50, 100\n",
    "X = np.random.randn(n_samples, n_features)\n",
    "\n",
    "idx = np.arange(n_features)\n",
    "coef = -1**idx * np.exp(-idx/10)\n",
    "coef[10:] = 0\n",
    "y = np.dot(X, coef)\n",
    "\n",
    "y += 0.01 * np.random.normal(size=n_samples)\n",
    "\n",
    "X_train, y_train = X[:n_samples//2], y[:n_samples//2]\n",
    "X_test, y_test = X[n_samples//2:], y[n_samples//2:]\n",
    "\n",
    "alpha = 0.1\n",
    "lasso = Lasso(alpha=alpha)\n",
    "model = lasso.fit(X_train, y_train)\n",
    "y_pred = model.predict(X_test)\n",
    "\n",
    "\n",
    "fig, axes = plt.subplots(1, 2, figsize=(10, 4))\n",
    "ax = axes[0]\n",
    "ax.stem(\n",
    "    np.where(coef)[0], coef[coef != 0], 'b',\n",
    "    linefmt='--',\n",
    "    label='True coefficients',\n",
    "    markerfmt='bx',\n",
    ")\n",
    "ax.stem(\n",
    "    np.where(lasso.coef_)[0], lasso.coef_[lasso.coef_ != 0],\n",
    "    'k', markerfmt='kx', label='Lasso coefficients',\n",
    ")\n",
    "ax.legend(loc='best')\n",
    "\n",
    "ax = axes[1]\n",
    "ax.scatter(y_train, model.predict(X_train), label='Train', alpha=.5)\n",
    "ax.scatter(y_test, y_pred, label='Test', alpha=.5)\n",
    "ax.plot([-6, 6], [-6, 6], c='k', zorder=-1)\n",
    "ax.set_xlabel('True')\n",
    "ax.set_ylabel('Prediction')\n",
    "ax.set_aspect(1)\n",
    "ax.set_xlim(-6, 6)\n",
    "ax.set_ylim(ax.get_xlim())\n",
    "ax.legend(loc='best')"
   ]
  },
  {
   "cell_type": "markdown",
   "id": "f58b7a4f",
   "metadata": {},
   "source": [
    "## ~~Cartography with `cartopy`~~"
   ]
  },
  {
   "cell_type": "code",
   "execution_count": null,
   "id": "4e3a9a51",
   "metadata": {},
   "outputs": [],
   "source": [
    "import cartopy.crs as ccrs\n",
    "import cartopy.feature as cfeature"
   ]
  },
  {
   "cell_type": "code",
   "execution_count": null,
   "id": "fb5a328d",
   "metadata": {},
   "outputs": [],
   "source": [
    "fig, ax = plt.subplots(subplot_kw={'projection': ccrs.Mercator()})\n",
    "\n",
    "ax.stock_img()\n",
    "\n",
    "ax.gridlines(draw_labels=True, alpha=.1)\n",
    "ax.add_feature(cfeature.COASTLINE, lw=1)\n",
    "ax.add_feature(cfeature.BORDERS, lw=1)\n",
    "ax.add_feature(cfeature.STATES, lw=1)\n",
    "ax.set_extent([245, 260, 35, 43])\n",
    "\n",
    "# x, y = np.meshgrid(\n",
    "#     np.linspace(252, 256),\n",
    "#     np.linspace(37, 41)\n",
    "# )\n",
    "# z = x + y\n",
    "# im = ax.pcolormesh(\n",
    "#     x, y, z,\n",
    "#     transform=ccrs.PlateCarree(),    # required for plotting on maps\n",
    "# )\n",
    "# cb = fig.colorbar(im, orientation='horizontal')\n",
    "# cb.set_label('Z (a.u.)')"
   ]
  }
 ],
 "metadata": {
  "kernelspec": {
   "display_name": "Python 3 (ipykernel)",
   "language": "python",
   "name": "python3"
  },
  "language_info": {
   "codemirror_mode": {
    "name": "ipython",
    "version": 3
   },
   "file_extension": ".py",
   "mimetype": "text/x-python",
   "name": "python",
   "nbconvert_exporter": "python",
   "pygments_lexer": "ipython3",
   "version": "3.9.6"
  },
  "toc": {
   "base_numbering": 1,
   "nav_menu": {},
   "number_sections": false,
   "sideBar": true,
   "skip_h1_title": false,
   "title_cell": "Table of Contents",
   "title_sidebar": "Contents",
   "toc_cell": true,
   "toc_position": {},
   "toc_section_display": true,
   "toc_window_display": false
  }
 },
 "nbformat": 4,
 "nbformat_minor": 5
}

{
 "cells": [
  {
   "cell_type": "markdown",
   "id": "organized-numbers",
   "metadata": {
    "toc": true
   },
   "source": [
    "<h1>Table of Contents<span class=\"tocSkip\"></span></h1>\n",
    "<div class=\"toc\"><ul class=\"toc-item\"><li><span><a href=\"#Why-Python?\" data-toc-modified-id=\"Why-Python?-1\">Why Python?</a></span></li><li><span><a href=\"#Install\" data-toc-modified-id=\"Install-2\">Install</a></span></li><li><span><a href=\"#Python-syntax\" data-toc-modified-id=\"Python-syntax-3\">Python syntax</a></span><ul class=\"toc-item\"><li><span><a href=\"#Variables-and-formats\" data-toc-modified-id=\"Variables-and-formats-3.1\">Variables and formats</a></span></li><li><span><a href=\"#Data-structures\" data-toc-modified-id=\"Data-structures-3.2\">Data structures</a></span></li><li><span><a href=\"#Control-flows\" data-toc-modified-id=\"Control-flows-3.3\">Control flows</a></span></li><li><span><a href=\"#I/O-(cf.-using-numpy,-pandas)\" data-toc-modified-id=\"I/O-(cf.-using-numpy,-pandas)-3.4\">I/O (cf. using <a href=\"#numpy_load\">numpy</a>, <a href=\"#pandas_load\">pandas</a>)</a></span></li><li><span><a href=\"#Functions\" data-toc-modified-id=\"Functions-3.5\">Functions</a></span></li><li><span><a href=\"#Modules\" data-toc-modified-id=\"Modules-3.6\">Modules</a></span></li><li><span><a href=\"#Classes\" data-toc-modified-id=\"Classes-3.7\">Classes</a></span></li><li><span><a href=\"#Command-line\" data-toc-modified-id=\"Command-line-3.8\">Command line</a></span></li></ul></li><li><span><a href=\"#Essential-packages\" data-toc-modified-id=\"Essential-packages-4\">Essential packages</a></span><ul class=\"toc-item\"><li><span><a href=\"#Array-programming-with-NumPy\" data-toc-modified-id=\"Array-programming-with-NumPy-4.1\">Array programming with <code>NumPy</code></a></span></li><li><span><a href=\"#Scientific-computing-with-SciPy\" data-toc-modified-id=\"Scientific-computing-with-SciPy-4.2\">Scientific computing with <code>SciPy</code></a></span></li><li><span><a href=\"#Visualization-with-Matplotlib\" data-toc-modified-id=\"Visualization-with-Matplotlib-4.3\">Visualization with <code>Matplotlib</code></a></span></li></ul></li><li><span><a href=\"#Specific-packages\" data-toc-modified-id=\"Specific-packages-5\">Specific packages</a></span><ul class=\"toc-item\"><li><span><a href=\"#Analysis-of-tabular-data-with-Pandas\" data-toc-modified-id=\"Analysis-of-tabular-data-with-Pandas-5.1\">Analysis of tabular data with <code>Pandas</code></a></span></li><li><span><a href=\"#Machine-learning-with-scikit-learn\" data-toc-modified-id=\"Machine-learning-with-scikit-learn-5.2\">Machine learning with <code>scikit-learn</code></a></span><ul class=\"toc-item\"><li><span><a href=\"#Lasso-($l_1$)-regression\" data-toc-modified-id=\"Lasso-($l_1$)-regression-5.2.1\">Lasso ($l_1$) regression</a></span></li></ul></li><li><span><a href=\"#Cartography-with-cartopy\" data-toc-modified-id=\"Cartography-with-cartopy-5.3\"><del>Cartography with <code>cartopy</code></del></a></span></li></ul></li></ul></div>"
   ]
  },
  {
   "cell_type": "markdown",
   "id": "homeless-culture",
   "metadata": {},
   "source": [
    "<h2 style=\"text-align: center\"><span class=\"tocSkip\"></span>GEOL 6670 Geophysical Inverse Theory</h2>\n",
    "<h1 style=\"text-align: center\"><span class=\"tocSkip\"></span>Tutorial on Python</h1>\n",
    "<h2 style=\"text-align: center\"><span class=\"tocSkip\"></span>Shane Zhang*</h2>\n",
    "<h3 style=\"text-align: center\"><span class=\"tocSkip\"></span>University of Colorado Boulder</h3>\n",
    "<h3 style=\"text-align: center\"><span class=\"tocSkip\"></span>Aug 31st, 2021</h3>\n",
    "<h4 style=\"text-align: center\"><span class=\"tocSkip\"></span><a href=\"mailto:shane.zhang@colorado.edu\">*shane.zhang@colorado.edu</a></h4>"
   ]
  },
  {
   "cell_type": "markdown",
   "id": "steady-decision",
   "metadata": {},
   "source": [
    "# Why Python?\n"
   ]
  },
  {
   "cell_type": "markdown",
   "id": "attempted-development",
   "metadata": {},
   "source": [
    "- Versatile\n",
    "    - A personal story: My old workflow is to use `C/Fortran` for computing, then use `Shell/Perl` for I/O, and `Matlab/GMT` for plotting.\n",
    "- Easy to read\n",
    "```Python\n",
    "def add(a, b):\n",
    "    # Return the sum of two numbers.\n",
    "    return a + b\n",
    "```\n",
    "- \"Efficient\"\n",
    "    - I believe human time is more precious than machine time, and thus appreciate the fast feedback from Python in the development stage.\n",
    "- Open-source\n",
    "- Popular\n",
    "\n",
    "<figure>\n",
    "    <img src=\"fig/SO.png\" class=\"center\" style=\"width:80%\">\n",
    "    <figcaption><b>Fig: Trends of programming languages in [StackOverflow](https://insights.stackoverflow.com/trends?tags=java%2Cc%2Cc%2B%2B%2Cpython%2Cc%23%2Cvb.net%2Cjavascript%2Cassembly%2Cphp%2Cperl%2Cruby%2Cswift%2Cr%2Cobjective-c).</b></figcaption>\n",
    "</figure>\n",
    "\n",
    "A google search of `python tutorial` yields ~1 billion results, thus I would not try to provide a list of useful resources. In addition, the tutorial aims to be useful for a diverse audience but will become more biased in the later part.\n",
    "\n",
    "Some examples are provided only as counterparts to Menke's introdution to Matlab."
   ]
  },
  {
   "cell_type": "markdown",
   "id": "living-characterization",
   "metadata": {},
   "source": [
    "# Python syntax"
   ]
  },
  {
   "cell_type": "markdown",
   "id": "stopped-dealer",
   "metadata": {},
   "source": [
    "## Variables and formats"
   ]
  },
  {
   "cell_type": "code",
   "execution_count": 341,
   "id": "african-burlington",
   "metadata": {},
   "outputs": [
    {
     "name": "stdout",
     "output_type": "stream",
     "text": [
      "temperature data from 1.1 to 2\n",
      "spam and eggs\n",
      "eggs and spam\n",
      "x = 0\n",
      "x = 0\n",
      "x = 0.000\n"
     ]
    }
   ],
   "source": [
    "# Single line comment\n",
    "\"\"\"\n",
    "Multiple\n",
    "line\n",
    "comments.\n",
    "\"\"\"\n",
    "\n",
    "# Integer division\n",
    "5 // 3\n",
    "-5 // 3\n",
    "\n",
    "# Exponentiation\n",
    "2**3\n",
    "\n",
    "# Boolean\n",
    "True\n",
    "not True\n",
    "True or False\n",
    "True and False\n",
    "\n",
    "# Comparison\n",
    "1 == 1\n",
    "1 != 2\n",
    "1 < 2\n",
    "2 <= 2\n",
    "1 < 2 < 3\n",
    "\n",
    "\n",
    "\n",
    "x = 0\n",
    "\n",
    "print('temperature data from {} to {}'.format(1.1, 2))\n",
    "\n",
    "print('{0} and {1}'.format('spam', 'eggs'))\n",
    "print('{1} and {0}'.format('spam', 'eggs'))\n",
    "\n",
    "print('x = ' + str(x))\n",
    "print(f'x = {x}')\n",
    "print(f'x = {x:.3f}')"
   ]
  },
  {
   "cell_type": "markdown",
   "id": "inclusive-howard",
   "metadata": {},
   "source": [
    "## Data structures"
   ]
  },
  {
   "cell_type": "code",
   "execution_count": null,
   "id": "endangered-coverage",
   "metadata": {},
   "outputs": [],
   "source": [
    "# List\n",
    "li = []\n",
    "li.append(1)\n",
    "li.append(2)\n",
    "li.append(3)\n",
    "li[1]\n",
    "li[1:2]\n",
    "len(li)\n",
    "a, b, c = li\n",
    "2 in li\n",
    "\n",
    "# Tuple\n",
    "tup = (1, 2, 3)\n",
    "# tup[0] = 2    # Tuples are immutable!\n",
    "\n",
    "# Dictionary\n",
    "di = {'one': 1, 'two': 2, 'three': 3}\n",
    "di['one']\n",
    "list(di.keys())\n",
    "list(di.values())\n",
    "'one' in di\n",
    "di.get('one')\n",
    "di.update({'four': 4})\n",
    "\n",
    "# Set\n",
    "se = set({1, 1, 2, 2, 3})\n",
    "se.add(4)\n",
    "other_set = {3, 4}\n",
    "se & other_set    # intersection\n",
    "se | other_set    # union\n",
    "se - other_set    # difference\n"
   ]
  },
  {
   "cell_type": "markdown",
   "id": "disturbed-steal",
   "metadata": {},
   "source": [
    "## Control flows"
   ]
  },
  {
   "cell_type": "code",
   "execution_count": null,
   "id": "cubic-architect",
   "metadata": {},
   "outputs": [],
   "source": [
    "x = 5\n",
    "if x > 1:\n",
    "    print('x > 1')\n",
    "elif x < 1:\n",
    "    print('x < 1')\n",
    "else:\n",
    "    print('x == 1')\n",
    "    \n",
    "\n",
    "s = 0\n",
    "for i in range(1, 10, 1):\n",
    "    s += i\n",
    "s\n",
    "\n",
    "\n",
    "x = 0\n",
    "while x < 2:\n",
    "    print(x)\n",
    "    x += 1\n",
    "\n",
    "\n",
    "try:\n",
    "    open('a/b')\n",
    "except FileNotFoundError as e:\n",
    "    raise e\n",
    "else:\n",
    "    pass\n",
    "finally:\n",
    "    pass"
   ]
  },
  {
   "cell_type": "markdown",
   "id": "permanent-trademark",
   "metadata": {},
   "source": [
    "## I/O (cf. using [numpy](#numpy_load), [pandas](#pandas_load))"
   ]
  },
  {
   "cell_type": "code",
   "execution_count": null,
   "id": "elementary-robinson",
   "metadata": {},
   "outputs": [],
   "source": [
    "fpath = '/Volumes/GoogleDrive/My Drive/6670/gda/data/global_temp.txt'\n",
    "with open(fpath, 'r') as f:\n",
    "#     d = f.read()\n",
    "#     d = f.readline()\n",
    "\n",
    "#     d = f.readlines()\n",
    "    d = list(f)\n",
    "\n",
    "#     for i, line in enumerate(f):\n",
    "#         print(i, line)\n",
    "\n",
    "d\n",
    "\n",
    "\n",
    "year, temperature = [], []\n",
    "with open(fpath, 'r') as f:\n",
    "    for line in f:\n",
    "        y, t = line.split()\n",
    "        year.append(int(y))\n",
    "        temperature.append(float(t))\n",
    "\n",
    "# year, temperature"
   ]
  },
  {
   "cell_type": "markdown",
   "id": "curious-supervision",
   "metadata": {},
   "source": [
    "## Functions"
   ]
  },
  {
   "cell_type": "code",
   "execution_count": null,
   "id": "rotary-theater",
   "metadata": {},
   "outputs": [],
   "source": [
    "def function_name(arg1, *args, **kwargs):\n",
    "    print(arg1)\n",
    "    print(args)\n",
    "    print(kwargs)\n",
    "\n",
    "    return\n",
    "\n",
    "arg1 = 1\n",
    "args = (1, 2)\n",
    "kwargs = {'a': 1}\n",
    "# function_name(arg1)\n",
    "function_name(arg1, *args, **kwargs)"
   ]
  },
  {
   "cell_type": "markdown",
   "id": "interracial-while",
   "metadata": {},
   "source": [
    "## Modules"
   ]
  },
  {
   "cell_type": "code",
   "execution_count": null,
   "id": "suitable-teacher",
   "metadata": {},
   "outputs": [],
   "source": [
    "import math"
   ]
  },
  {
   "cell_type": "code",
   "execution_count": null,
   "id": "toxic-force",
   "metadata": {},
   "outputs": [],
   "source": [
    "a = 6\n",
    "b = 8\n",
    "c = math.sqrt(a**2 + b**2)\n",
    "c"
   ]
  },
  {
   "cell_type": "code",
   "execution_count": null,
   "id": "spread-driver",
   "metadata": {},
   "outputs": [],
   "source": [
    "n = 3\n",
    "x = 4\n",
    "x0 = 1\n",
    "L = 6\n",
    "c = math.sin(n * math.pi * (x-x0) / L)\n",
    "c"
   ]
  },
  {
   "cell_type": "code",
   "execution_count": null,
   "id": "functioning-clearance",
   "metadata": {},
   "outputs": [],
   "source": [
    "from math import ceil\n",
    "\n",
    "ceil(3.2)"
   ]
  },
  {
   "cell_type": "markdown",
   "id": "mechanical-navigator",
   "metadata": {},
   "source": [
    "## Classes"
   ]
  },
  {
   "cell_type": "code",
   "execution_count": 342,
   "id": "controlled-individual",
   "metadata": {},
   "outputs": [
    {
     "data": {
      "text/plain": [
       "True"
      ]
     },
     "execution_count": 342,
     "metadata": {},
     "output_type": "execute_result"
    }
   ],
   "source": [
    "class Human(object):\n",
    "    def __init__(self, name, skills=[]):\n",
    "        self.name = name\n",
    "        self.skills = skills\n",
    "        \n",
    "    def solve_problems(self):\n",
    "        return True\n",
    "     \n",
    "    \n",
    "class Geologist(Human):\n",
    "    def __init__(self, name, skills=['geology']):\n",
    "        super().__init__(name=name, skills=skills)\n",
    "#         super(Human, self).__init__(name=name, skills=skills)\n",
    "\n",
    "    def solve_geological_problems(self):\n",
    "        return True\n",
    "        \n",
    "\n",
    "class Physicist(Human):\n",
    "    def __init__(self, name, skills=['physics']):\n",
    "        super().__init__(name=name, skills=skills)\n",
    "    \n",
    "    def solve_physcis_problems(self):\n",
    "        return True\n",
    "    \n",
    "    \n",
    "class Geophysicist(Human):\n",
    "    def __init__(self, name, skills=['geophysics']):\n",
    "        super().__init__(name=name, skills=skills)\n",
    "\n",
    "    def solve_geophysical_problems(self):\n",
    "        return True\n",
    "    \n",
    "    \n",
    "class GeoPhysicist(Geologist, Physicist):\n",
    "    def __init__(self, name, skills=['geology, physics']):\n",
    "        Geologist.__init__(self, name=name, skills=skills)\n",
    "        Physicist.__init__(self, name=name, skills=skills)\n",
    "\n",
    "        \n",
    "p1 = GeoPhysicist(name='anonymous')\n",
    "p1.name\n",
    "p1.skills\n",
    "p1.solve_problems()\n",
    "# p1.solve_geological_problems()\n",
    "# p1.solve_geophysical_problems()"
   ]
  },
  {
   "cell_type": "markdown",
   "id": "separated-interference",
   "metadata": {},
   "source": [
    "## Command line"
   ]
  },
  {
   "cell_type": "code",
   "execution_count": null,
   "id": "informational-israel",
   "metadata": {},
   "outputs": [],
   "source": [
    "pwd"
   ]
  },
  {
   "cell_type": "code",
   "execution_count": null,
   "id": "sustained-fireplace",
   "metadata": {},
   "outputs": [],
   "source": [
    "cd /Volumes/GoogleDrive/My\\ Drive/6670"
   ]
  },
  {
   "cell_type": "code",
   "execution_count": null,
   "id": "improved-driver",
   "metadata": {},
   "outputs": [],
   "source": [
    "# dir()"
   ]
  },
  {
   "cell_type": "code",
   "execution_count": null,
   "id": "comparative-equity",
   "metadata": {},
   "outputs": [],
   "source": [
    "ls -lh"
   ]
  },
  {
   "cell_type": "markdown",
   "id": "leading-portland",
   "metadata": {},
   "source": [
    "# Essential packages"
   ]
  },
  {
   "cell_type": "markdown",
   "id": "medieval-document",
   "metadata": {},
   "source": [
    "<figure>\n",
    "    <img src=\"fig/Harris20_2.png\" class=\"center\" style=\"width:80%\">\n",
    "    <figcaption><b>Fig: [Harris et al., 2020](https://doi.org/10.1038/s41586-020-2649-2).</b></figcaption>\n",
    "</figure>"
   ]
  },
  {
   "cell_type": "markdown",
   "id": "collaborative-raising",
   "metadata": {},
   "source": [
    "## Array programming with `NumPy`"
   ]
  },
  {
   "cell_type": "markdown",
   "id": "accessible-guest",
   "metadata": {},
   "source": [
    "<figure>\n",
    "    <img src=\"fig/Harris20_1.png\" class=\"center\" style=\"width:100%\">\n",
    "    <figcaption><b>Fig: [Harris et al., 2020](https://doi.org/10.1038/s41586-020-2649-2).</b></figcaption>\n",
    "</figure>"
   ]
  },
  {
   "cell_type": "code",
   "execution_count": 343,
   "id": "particular-rebecca",
   "metadata": {},
   "outputs": [],
   "source": [
    "import numpy as np"
   ]
  },
  {
   "cell_type": "code",
   "execution_count": 367,
   "id": "organized-enforcement",
   "metadata": {},
   "outputs": [
    {
     "data": {
      "text/plain": [
       "66"
      ]
     },
     "execution_count": 367,
     "metadata": {},
     "output_type": "execute_result"
    }
   ],
   "source": [
    "# Data structure\n",
    "x = np.arange(12).reshape(4, 3)\n",
    "x.dtype\n",
    "x.shape\n",
    "x.strides\n",
    "\n",
    "# Indexing (view)\n",
    "x[:, 1:]\n",
    "x[:, ::2]\n",
    "\n",
    "# Indexing (copy)\n",
    "x[1, 2]\n",
    "x[x > 9]\n",
    "x[[0, 1], [1, 2]]\n",
    "x[[[1], [2]], [1, 0]]\n",
    "\n",
    "# Vectorization\n",
    "a = np.column_stack([np.linspace(0, 9, 4), np.linspace(1, 10, 4)])\n",
    "b = np.ones((4, 2))\n",
    "a + b\n",
    "\n",
    "# Broadcasting\n",
    "a[:, 0].reshape(4, 1) * np.array([1, 2]).reshape(1, 2)\n",
    "\n",
    "# Reduction\n",
    "x.sum(axis=0)\n",
    "x.sum(axis=1)\n",
    "x.sum()"
   ]
  },
  {
   "cell_type": "code",
   "execution_count": null,
   "id": "described-juice",
   "metadata": {},
   "outputs": [],
   "source": [
    "r = np.array([2, 4, 6]).reshape(1, 3)\n",
    "c = np.array([1, 3, 5]).reshape(3, 1)\n",
    "\n",
    "r, c"
   ]
  },
  {
   "cell_type": "code",
   "execution_count": null,
   "id": "cooked-membership",
   "metadata": {},
   "outputs": [],
   "source": [
    "a = r[0, 1]\n",
    "b = c[2, 0]\n",
    "a, b"
   ]
  },
  {
   "cell_type": "code",
   "execution_count": null,
   "id": "hollow-oakland",
   "metadata": {},
   "outputs": [],
   "source": [
    "M = np.arange(1, 10, 1).reshape(3, 3)\n",
    "M"
   ]
  },
  {
   "cell_type": "code",
   "execution_count": null,
   "id": "welcome-printing",
   "metadata": {},
   "outputs": [],
   "source": [
    "c = M[0, 2]\n",
    "c"
   ]
  },
  {
   "cell_type": "code",
   "execution_count": null,
   "id": "motivated-accused",
   "metadata": {},
   "outputs": [],
   "source": [
    "M = np.array([\n",
    "    1, 0, 2,\n",
    "    0, 1, 0,\n",
    "    2, 0, 1,\n",
    "]).reshape(3, 3)\n",
    "N = np.array([\n",
    "    1, 0, -1,\n",
    "    0, 2, 0,\n",
    "    -1, 0, 3,\n",
    "]).reshape(3, 3)\n",
    "S = M + N\n",
    "S"
   ]
  },
  {
   "cell_type": "code",
   "execution_count": null,
   "id": "qualified-hacker",
   "metadata": {},
   "outputs": [],
   "source": [
    "D = M - N\n",
    "D"
   ]
  },
  {
   "cell_type": "code",
   "execution_count": null,
   "id": "simple-gabriel",
   "metadata": {},
   "outputs": [],
   "source": [
    "a = np.array([1, 3, 5]).reshape(3, 1)\n",
    "b = np.array([2, 4, 6]).reshape(3, 1)\n",
    "print(a.T @ b)\n",
    "print(np.dot(a.T, b))\n",
    "print(a.T.dot(b))\n",
    "print(a @ b.T)\n",
    "print(M @ a)\n",
    "print(M @ N)\n",
    "print(a * b)"
   ]
  },
  {
   "cell_type": "markdown",
   "id": "convinced-portsmouth",
   "metadata": {},
   "source": [
    "- Loading data from a file <a id='numpy_load'></a>"
   ]
  },
  {
   "cell_type": "code",
   "execution_count": 371,
   "id": "falling-ethics",
   "metadata": {},
   "outputs": [
    {
     "data": {
      "text/plain": [
       "array([1965, 1966, 1967, 1968, 1969, 1970, 1971, 1972, 1973, 1974, 1975,\n",
       "       1976, 1977, 1978, 1979, 1980, 1981, 1982, 1983, 1984, 1985, 1986,\n",
       "       1987, 1988, 1989, 1990, 1991, 1992, 1993, 1994, 1995, 1996, 1997,\n",
       "       1998, 1999, 2000, 2001, 2002, 2003, 2004, 2005, 2006, 2007, 2008,\n",
       "       2009, 2010], dtype=int32)"
      ]
     },
     "execution_count": 371,
     "metadata": {},
     "output_type": "execute_result"
    }
   ],
   "source": [
    "d = np.loadtxt(\n",
    "    fpath,\n",
    "    dtype={\n",
    "        'names': ('year', 'temperature'),\n",
    "        'formats': ('i4', 'f4')\n",
    "    },\n",
    ")\n",
    "d\n",
    "d['year']"
   ]
  },
  {
   "cell_type": "markdown",
   "id": "universal-founder",
   "metadata": {},
   "source": [
    "## Scientific computing with `SciPy`"
   ]
  },
  {
   "cell_type": "code",
   "execution_count": null,
   "id": "adopted-dancing",
   "metadata": {},
   "outputs": [],
   "source": [
    "import scipy as sp\n",
    "from scipy import linalg        # Linear algebra"
   ]
  },
  {
   "cell_type": "code",
   "execution_count": 368,
   "id": "fresh-bibliography",
   "metadata": {},
   "outputs": [
    {
     "name": "stdout",
     "output_type": "stream",
     "text": [
      "[[1 2 0]\n",
      " [2 2 0]\n",
      " [0 0 4]]\n",
      "[-0.56155281+0.j  3.56155281+0.j  4.        +0.j] \n",
      " [[-0.78820544 -0.61541221  0.        ]\n",
      " [ 0.61541221 -0.78820544  0.        ]\n",
      " [ 0.          0.          1.        ]]\n",
      "[[1.00000000e+00 1.02892138e-17 0.00000000e+00]\n",
      " [1.02892138e-17 1.00000000e+00 0.00000000e+00]\n",
      " [0.00000000e+00 0.00000000e+00 1.00000000e+00]]\n"
     ]
    }
   ],
   "source": [
    "# Matrix inverse\n",
    "# A = np.array([\n",
    "#     [1, 5, 13],\n",
    "#     [2, 7, 17],\n",
    "#     [3, 11, 19],\n",
    "# ])\n",
    "# b = np.array([1, 2, 3]).reshape(3, 1)\n",
    "# print(A)\n",
    "\n",
    "# B = linalg.inv(A)\n",
    "# print(B)\n",
    "# print(A @ B)\n",
    "# print(B @ A)\n",
    "\n",
    "# c, error, rank, s = linalg.lstsq(A, b)\n",
    "# print(c, error)\n",
    "\n",
    "\n",
    "# B = np.array([\n",
    "#     [1, 3, 4],\n",
    "#     [2, 3, 2],\n",
    "#     [0, 0, 4],\n",
    "# ])\n",
    "# D = B @ linalg.inv(A)\n",
    "# print(D)\n",
    "\n",
    "# Eigenvalues and eigenvectors\n",
    "M = np.array([\n",
    "    [1, 2, 0],\n",
    "    [2, 2, 0],\n",
    "    [0, 0, 4],\n",
    "])\n",
    "print(M)\n",
    "LAMBDA, V = linalg.eig(M)\n",
    "print(LAMBDA, '\\n', V)\n",
    "print(V.T @ V)"
   ]
  },
  {
   "cell_type": "markdown",
   "id": "hispanic-tourism",
   "metadata": {},
   "source": [
    "- SVD (Singular Value Decomposition)\n",
    "\n",
    "$$\n",
    "M = U S V^H\n",
    "$$\n",
    "where $UU^H = U^H U = I, VV^H = V^H V = I$, and $S$ is rectangular diagonal."
   ]
  },
  {
   "cell_type": "code",
   "execution_count": null,
   "id": "shared-people",
   "metadata": {},
   "outputs": [],
   "source": [
    "M = np.array([\n",
    "    [1, 0, 0, 0, 2],\n",
    "    [0, 0, 3, 0, 0],\n",
    "    [0, 0, 0, 0, 0],\n",
    "    [0, 2, 0, 0, 0],\n",
    "])\n",
    "U, s, Vh = linalg.svd(M)\n",
    "print(U)\n",
    "print(s)\n",
    "print(Vh)"
   ]
  },
  {
   "cell_type": "markdown",
   "id": "racial-sapphire",
   "metadata": {},
   "source": [
    "## Visualization with `Matplotlib`"
   ]
  },
  {
   "cell_type": "code",
   "execution_count": null,
   "id": "noticed-antigua",
   "metadata": {},
   "outputs": [],
   "source": [
    "import matplotlib.pyplot as plt\n",
    "\n",
    "plt.rcParams.update({\n",
    "    'figure.dpi': 300,\n",
    "})"
   ]
  },
  {
   "cell_type": "code",
   "execution_count": 372,
   "id": "applied-values",
   "metadata": {},
   "outputs": [
    {
     "data": {
      "text/plain": [
       "Text(0.5, 1.0, 'Global temperature data')"
      ]
     },
     "execution_count": 372,
     "metadata": {},
     "output_type": "execute_result"
    },
    {
     "data": {
      "image/png": "[encoded data removed]",
      "text/plain": [
       "<Figure size 1800x1200 with 1 Axes>"
      ]
     },
     "metadata": {
      "needs_background": "light"
     },
     "output_type": "display_data"
    }
   ],
   "source": [
    "fig, ax = plt.subplots()\n",
    "ax.plot(\n",
    "    d['year'], d['temperature'], 'r-', linewidth=2,\n",
    "    marker='o', markerfacecolor='none', markeredgecolor='k',\n",
    ")\n",
    "ax.set_xlim(1965, 2020)\n",
    "ax.set_ylim(-0.5, 1)\n",
    "ax.set_xlabel(r'Calendar year, $t_i$ (years)')\n",
    "ax.set_ylabel(r'Temperature anomaly, $T_i$ ($^\\circ$C)')\n",
    "ax.set_title('Global temperature data', fontsize=14)\n",
    "# fig.savefig('test.pdf')"
   ]
  },
  {
   "cell_type": "markdown",
   "id": "cubic-banks",
   "metadata": {},
   "source": [
    "# Specific packages"
   ]
  },
  {
   "cell_type": "markdown",
   "id": "accessible-carpet",
   "metadata": {},
   "source": [
    "## Analysis of tabular data with `Pandas`"
   ]
  },
  {
   "cell_type": "code",
   "execution_count": null,
   "id": "olive-negotiation",
   "metadata": {},
   "outputs": [],
   "source": [
    "import pandas as pd"
   ]
  },
  {
   "cell_type": "markdown",
   "id": "handy-wealth",
   "metadata": {},
   "source": [
    "- Load data<a id='pandas_load'></a>"
   ]
  },
  {
   "cell_type": "code",
   "execution_count": null,
   "id": "religious-clark",
   "metadata": {},
   "outputs": [],
   "source": [
    "df = pd.read_csv(\n",
    "    fpath,\n",
    "    sep='\\s+',\n",
    "    header=None,\n",
    "    names=['year', 'temperature'],\n",
    "#     parse_dates=['year'],\n",
    ")\n",
    "# df"
   ]
  },
  {
   "cell_type": "markdown",
   "id": "acoustic-indian",
   "metadata": {},
   "source": [
    "- Plot data"
   ]
  },
  {
   "cell_type": "code",
   "execution_count": null,
   "id": "defined-joseph",
   "metadata": {},
   "outputs": [],
   "source": [
    "ax = df.plot('year', 'temperature', kind='line', c='r')\n",
    "df.plot.scatter('year', 'temperature', ax=ax, c='k')\n",
    "ax.set_ylim(-.5, 1)"
   ]
  },
  {
   "cell_type": "markdown",
   "id": "extensive-freedom",
   "metadata": {},
   "source": [
    "- Data analysis"
   ]
  },
  {
   "cell_type": "code",
   "execution_count": null,
   "id": "extensive-correlation",
   "metadata": {},
   "outputs": [],
   "source": [
    "df = pd.DataFrame(\n",
    "    {\n",
    "        \"A\": [\"foo\", \"bar\", \"foo\", \"bar\", \"foo\", \"bar\", \"foo\", \"foo\"],\n",
    "        \"B\": [\"one\", \"one\", \"two\", \"three\", \"two\", \"two\", \"one\", \"three\"],\n",
    "        \"C\": np.random.randn(8),\n",
    "        \"D\": np.random.randn(8),\n",
    "    }\n",
    ")\n",
    "df\n",
    "df.groupby('A').sum()"
   ]
  },
  {
   "cell_type": "markdown",
   "id": "detected-stack",
   "metadata": {},
   "source": [
    "## Machine learning with `scikit-learn`"
   ]
  },
  {
   "cell_type": "markdown",
   "id": "welsh-wiring",
   "metadata": {},
   "source": [
    "### Lasso ($l_1$) regression"
   ]
  },
  {
   "cell_type": "markdown",
   "id": "mexican-benchmark",
   "metadata": {},
   "source": [
    "$$\n",
    "\\arg \\min_m || d - Gm ||^2_2 + \\alpha || m ||_1\n",
    "$$"
   ]
  },
  {
   "cell_type": "code",
   "execution_count": null,
   "id": "downtown-phrase",
   "metadata": {},
   "outputs": [],
   "source": [
    "from sklearn.linear_model import Lasso"
   ]
  },
  {
   "cell_type": "code",
   "execution_count": null,
   "id": "sweet-ambassador",
   "metadata": {},
   "outputs": [],
   "source": [
    "np.random.seed(42)\n",
    "n_samples, n_features = 50, 100\n",
    "X = np.random.randn(n_samples, n_features)\n",
    "\n",
    "idx = np.arange(n_features)\n",
    "coef = -1**idx * np.exp(-idx/10)\n",
    "coef[10:] = 0\n",
    "y = np.dot(X, coef)\n",
    "\n",
    "y += 0.01 * np.random.normal(size=n_samples)\n",
    "\n",
    "X_train, y_train = X[:n_samples//2], y[:n_samples//2]\n",
    "X_test, y_test = X[n_samples//2:], y[n_samples//2:]\n",
    "\n",
    "alpha = 0.1\n",
    "lasso = Lasso(alpha=alpha)\n",
    "model = lasso.fit(X_train, y_train)\n",
    "y_pred = model.predict(X_test)\n",
    "\n",
    "\n",
    "fig, axes = plt.subplots(1, 2, figsize=(10, 4))\n",
    "ax = axes[0]\n",
    "ax.stem(\n",
    "    np.where(coef)[0], coef[coef != 0], 'b',\n",
    "    linefmt='--',\n",
    "    label='True coefficients',\n",
    "    markerfmt='bx',\n",
    ")\n",
    "ax.stem(\n",
    "    np.where(lasso.coef_)[0], lasso.coef_[lasso.coef_ != 0],\n",
    "    'k', markerfmt='kx', label='Lasso coefficients',\n",
    ")\n",
    "ax.legend(loc='best')\n",
    "\n",
    "ax = axes[1]\n",
    "ax.scatter(y_train, model.predict(X_train), label='Train', alpha=.5)\n",
    "ax.scatter(y_test, y_pred, label='Test', alpha=.5)\n",
    "ax.plot([-6, 6], [-6, 6], c='k', zorder=-1)\n",
    "ax.set_xlabel('True')\n",
    "ax.set_ylabel('Prediction')\n",
    "ax.set_aspect(1)\n",
    "ax.set_xlim(-6, 6)\n",
    "ax.set_ylim(ax.get_xlim())\n",
    "ax.legend(loc='best')"
   ]
  },
  {
   "cell_type": "markdown",
   "id": "generous-ultimate",
   "metadata": {},
   "source": [
    "## ~~Cartography with `cartopy`~~"
   ]
  },
  {
   "cell_type": "code",
   "execution_count": null,
   "id": "varying-twist",
   "metadata": {},
   "outputs": [],
   "source": [
    "import cartopy.crs as ccrs\n",
    "import cartopy.feature as cfeature"
   ]
  },
  {
   "cell_type": "code",
   "execution_count": null,
   "id": "directed-preserve",
   "metadata": {},
   "outputs": [],
   "source": [
    "fig, ax = plt.subplots(subplot_kw={'projection': ccrs.Mercator()})\n",
    "\n",
    "ax.stock_img()\n",
    "\n",
    "ax.gridlines(draw_labels=True, alpha=.1)\n",
    "ax.add_feature(cfeature.COASTLINE, lw=1)\n",
    "ax.add_feature(cfeature.BORDERS, lw=1)\n",
    "ax.add_feature(cfeature.STATES, lw=1)\n",
    "ax.set_extent([245, 260, 35, 43])\n",
    "\n",
    "# x, y = np.meshgrid(\n",
    "#     np.linspace(252, 256),\n",
    "#     np.linspace(37, 41)\n",
    "# )\n",
    "# z = x + y\n",
    "# im = ax.pcolormesh(\n",
    "#     x, y, z,\n",
    "#     transform=ccrs.PlateCarree(),    # required for plotting on maps\n",
    "# )\n",
    "# cb = fig.colorbar(im, orientation='horizontal')\n",
    "# cb.set_label('Z (a.u.)')"
   ]
  }
 ],
 "metadata": {
  "kernelspec": {
   "display_name": "Python 3",
   "language": "python",
   "name": "python3"
  },
  "language_info": {
   "codemirror_mode": {
    "name": "ipython",
    "version": 3
   },
   "file_extension": ".py",
   "mimetype": "text/x-python",
   "name": "python",
   "nbconvert_exporter": "python",
   "pygments_lexer": "ipython3",
   "version": "3.9.2"
  },
  "toc": {
   "base_numbering": 1,
   "nav_menu": {},
   "number_sections": false,
   "sideBar": true,
   "skip_h1_title": false,
   "title_cell": "Table of Contents",
   "title_sidebar": "Contents",
   "toc_cell": true,
   "toc_position": {},
   "toc_section_display": true,
   "toc_window_display": false
  }
 },
 "nbformat": 4,
 "nbformat_minor": 5
}
